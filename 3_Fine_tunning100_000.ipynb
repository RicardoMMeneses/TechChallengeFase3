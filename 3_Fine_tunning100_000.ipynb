{
  "nbformat": 4,
  "nbformat_minor": 0,
  "metadata": {
    "colab": {
      "provenance": [],
      "gpuType": "T4"
    },
    "kernelspec": {
      "name": "python3",
      "display_name": "Python 3"
    },
    "language_info": {
      "name": "python"
    },
    "accelerator": "GPU",
    "widgets": {
      "application/vnd.jupyter.widget-state+json": {
        "7a37029a4b4440adaefcf5bdc0c5b7e9": {
          "model_module": "@jupyter-widgets/controls",
          "model_name": "HBoxModel",
          "model_module_version": "1.5.0",
          "state": {
            "_dom_classes": [],
            "_model_module": "@jupyter-widgets/controls",
            "_model_module_version": "1.5.0",
            "_model_name": "HBoxModel",
            "_view_count": null,
            "_view_module": "@jupyter-widgets/controls",
            "_view_module_version": "1.5.0",
            "_view_name": "HBoxView",
            "box_style": "",
            "children": [
              "IPY_MODEL_08f1c3ce30e94cd88e12a7abc3442ea3",
              "IPY_MODEL_997715cbc6584278aeea2b2e2f55d6ae",
              "IPY_MODEL_6831ed12317e4a1087e80e8e6a389353"
            ],
            "layout": "IPY_MODEL_77ef0526ecca40bb999c4ae9c7a2e33b"
          }
        },
        "08f1c3ce30e94cd88e12a7abc3442ea3": {
          "model_module": "@jupyter-widgets/controls",
          "model_name": "HTMLModel",
          "model_module_version": "1.5.0",
          "state": {
            "_dom_classes": [],
            "_model_module": "@jupyter-widgets/controls",
            "_model_module_version": "1.5.0",
            "_model_name": "HTMLModel",
            "_view_count": null,
            "_view_module": "@jupyter-widgets/controls",
            "_view_module_version": "1.5.0",
            "_view_name": "HTMLView",
            "description": "",
            "description_tooltip": null,
            "layout": "IPY_MODEL_cb31880b5b04406e876a3eb2c68f050d",
            "placeholder": "​",
            "style": "IPY_MODEL_ccfd759665f7414599d1a7f8842dd518",
            "value": "Map: 100%"
          }
        },
        "997715cbc6584278aeea2b2e2f55d6ae": {
          "model_module": "@jupyter-widgets/controls",
          "model_name": "FloatProgressModel",
          "model_module_version": "1.5.0",
          "state": {
            "_dom_classes": [],
            "_model_module": "@jupyter-widgets/controls",
            "_model_module_version": "1.5.0",
            "_model_name": "FloatProgressModel",
            "_view_count": null,
            "_view_module": "@jupyter-widgets/controls",
            "_view_module_version": "1.5.0",
            "_view_name": "ProgressView",
            "bar_style": "success",
            "description": "",
            "description_tooltip": null,
            "layout": "IPY_MODEL_737d160cbc5e4b63a01224f709ff3e25",
            "max": 100000,
            "min": 0,
            "orientation": "horizontal",
            "style": "IPY_MODEL_f1247dce7de040d8a0836318a1fe271e",
            "value": 100000
          }
        },
        "6831ed12317e4a1087e80e8e6a389353": {
          "model_module": "@jupyter-widgets/controls",
          "model_name": "HTMLModel",
          "model_module_version": "1.5.0",
          "state": {
            "_dom_classes": [],
            "_model_module": "@jupyter-widgets/controls",
            "_model_module_version": "1.5.0",
            "_model_name": "HTMLModel",
            "_view_count": null,
            "_view_module": "@jupyter-widgets/controls",
            "_view_module_version": "1.5.0",
            "_view_name": "HTMLView",
            "description": "",
            "description_tooltip": null,
            "layout": "IPY_MODEL_febd206e076a4a32b014f633074c4184",
            "placeholder": "​",
            "style": "IPY_MODEL_6974410c202e40ddae6ac9470f01fb46",
            "value": " 100000/100000 [00:49&lt;00:00, 2357.16 examples/s]"
          }
        },
        "77ef0526ecca40bb999c4ae9c7a2e33b": {
          "model_module": "@jupyter-widgets/base",
          "model_name": "LayoutModel",
          "model_module_version": "1.2.0",
          "state": {
            "_model_module": "@jupyter-widgets/base",
            "_model_module_version": "1.2.0",
            "_model_name": "LayoutModel",
            "_view_count": null,
            "_view_module": "@jupyter-widgets/base",
            "_view_module_version": "1.2.0",
            "_view_name": "LayoutView",
            "align_content": null,
            "align_items": null,
            "align_self": null,
            "border": null,
            "bottom": null,
            "display": null,
            "flex": null,
            "flex_flow": null,
            "grid_area": null,
            "grid_auto_columns": null,
            "grid_auto_flow": null,
            "grid_auto_rows": null,
            "grid_column": null,
            "grid_gap": null,
            "grid_row": null,
            "grid_template_areas": null,
            "grid_template_columns": null,
            "grid_template_rows": null,
            "height": null,
            "justify_content": null,
            "justify_items": null,
            "left": null,
            "margin": null,
            "max_height": null,
            "max_width": null,
            "min_height": null,
            "min_width": null,
            "object_fit": null,
            "object_position": null,
            "order": null,
            "overflow": null,
            "overflow_x": null,
            "overflow_y": null,
            "padding": null,
            "right": null,
            "top": null,
            "visibility": null,
            "width": null
          }
        },
        "cb31880b5b04406e876a3eb2c68f050d": {
          "model_module": "@jupyter-widgets/base",
          "model_name": "LayoutModel",
          "model_module_version": "1.2.0",
          "state": {
            "_model_module": "@jupyter-widgets/base",
            "_model_module_version": "1.2.0",
            "_model_name": "LayoutModel",
            "_view_count": null,
            "_view_module": "@jupyter-widgets/base",
            "_view_module_version": "1.2.0",
            "_view_name": "LayoutView",
            "align_content": null,
            "align_items": null,
            "align_self": null,
            "border": null,
            "bottom": null,
            "display": null,
            "flex": null,
            "flex_flow": null,
            "grid_area": null,
            "grid_auto_columns": null,
            "grid_auto_flow": null,
            "grid_auto_rows": null,
            "grid_column": null,
            "grid_gap": null,
            "grid_row": null,
            "grid_template_areas": null,
            "grid_template_columns": null,
            "grid_template_rows": null,
            "height": null,
            "justify_content": null,
            "justify_items": null,
            "left": null,
            "margin": null,
            "max_height": null,
            "max_width": null,
            "min_height": null,
            "min_width": null,
            "object_fit": null,
            "object_position": null,
            "order": null,
            "overflow": null,
            "overflow_x": null,
            "overflow_y": null,
            "padding": null,
            "right": null,
            "top": null,
            "visibility": null,
            "width": null
          }
        },
        "ccfd759665f7414599d1a7f8842dd518": {
          "model_module": "@jupyter-widgets/controls",
          "model_name": "DescriptionStyleModel",
          "model_module_version": "1.5.0",
          "state": {
            "_model_module": "@jupyter-widgets/controls",
            "_model_module_version": "1.5.0",
            "_model_name": "DescriptionStyleModel",
            "_view_count": null,
            "_view_module": "@jupyter-widgets/base",
            "_view_module_version": "1.2.0",
            "_view_name": "StyleView",
            "description_width": ""
          }
        },
        "737d160cbc5e4b63a01224f709ff3e25": {
          "model_module": "@jupyter-widgets/base",
          "model_name": "LayoutModel",
          "model_module_version": "1.2.0",
          "state": {
            "_model_module": "@jupyter-widgets/base",
            "_model_module_version": "1.2.0",
            "_model_name": "LayoutModel",
            "_view_count": null,
            "_view_module": "@jupyter-widgets/base",
            "_view_module_version": "1.2.0",
            "_view_name": "LayoutView",
            "align_content": null,
            "align_items": null,
            "align_self": null,
            "border": null,
            "bottom": null,
            "display": null,
            "flex": null,
            "flex_flow": null,
            "grid_area": null,
            "grid_auto_columns": null,
            "grid_auto_flow": null,
            "grid_auto_rows": null,
            "grid_column": null,
            "grid_gap": null,
            "grid_row": null,
            "grid_template_areas": null,
            "grid_template_columns": null,
            "grid_template_rows": null,
            "height": null,
            "justify_content": null,
            "justify_items": null,
            "left": null,
            "margin": null,
            "max_height": null,
            "max_width": null,
            "min_height": null,
            "min_width": null,
            "object_fit": null,
            "object_position": null,
            "order": null,
            "overflow": null,
            "overflow_x": null,
            "overflow_y": null,
            "padding": null,
            "right": null,
            "top": null,
            "visibility": null,
            "width": null
          }
        },
        "f1247dce7de040d8a0836318a1fe271e": {
          "model_module": "@jupyter-widgets/controls",
          "model_name": "ProgressStyleModel",
          "model_module_version": "1.5.0",
          "state": {
            "_model_module": "@jupyter-widgets/controls",
            "_model_module_version": "1.5.0",
            "_model_name": "ProgressStyleModel",
            "_view_count": null,
            "_view_module": "@jupyter-widgets/base",
            "_view_module_version": "1.2.0",
            "_view_name": "StyleView",
            "bar_color": null,
            "description_width": ""
          }
        },
        "febd206e076a4a32b014f633074c4184": {
          "model_module": "@jupyter-widgets/base",
          "model_name": "LayoutModel",
          "model_module_version": "1.2.0",
          "state": {
            "_model_module": "@jupyter-widgets/base",
            "_model_module_version": "1.2.0",
            "_model_name": "LayoutModel",
            "_view_count": null,
            "_view_module": "@jupyter-widgets/base",
            "_view_module_version": "1.2.0",
            "_view_name": "LayoutView",
            "align_content": null,
            "align_items": null,
            "align_self": null,
            "border": null,
            "bottom": null,
            "display": null,
            "flex": null,
            "flex_flow": null,
            "grid_area": null,
            "grid_auto_columns": null,
            "grid_auto_flow": null,
            "grid_auto_rows": null,
            "grid_column": null,
            "grid_gap": null,
            "grid_row": null,
            "grid_template_areas": null,
            "grid_template_columns": null,
            "grid_template_rows": null,
            "height": null,
            "justify_content": null,
            "justify_items": null,
            "left": null,
            "margin": null,
            "max_height": null,
            "max_width": null,
            "min_height": null,
            "min_width": null,
            "object_fit": null,
            "object_position": null,
            "order": null,
            "overflow": null,
            "overflow_x": null,
            "overflow_y": null,
            "padding": null,
            "right": null,
            "top": null,
            "visibility": null,
            "width": null
          }
        },
        "6974410c202e40ddae6ac9470f01fb46": {
          "model_module": "@jupyter-widgets/controls",
          "model_name": "DescriptionStyleModel",
          "model_module_version": "1.5.0",
          "state": {
            "_model_module": "@jupyter-widgets/controls",
            "_model_module_version": "1.5.0",
            "_model_name": "DescriptionStyleModel",
            "_view_count": null,
            "_view_module": "@jupyter-widgets/base",
            "_view_module_version": "1.2.0",
            "_view_name": "StyleView",
            "description_width": ""
          }
        }
      }
    }
  },
  "cells": [
    {
      "cell_type": "code",
      "source": [
        "from google.colab import drive\n",
        "drive.mount('/content/drive')"
      ],
      "metadata": {
        "colab": {
          "base_uri": "https://localhost:8080/"
        },
        "id": "e6JbyHmtaEsB",
        "outputId": "68289c12-253f-4513-ed94-5f39d5bd7cf2"
      },
      "execution_count": null,
      "outputs": [
        {
          "output_type": "stream",
          "name": "stdout",
          "text": [
            "Mounted at /content/drive\n"
          ]
        }
      ]
    },
    {
      "cell_type": "code",
      "source": [
        "#!ls \"/content/drive/My Drive\"\n"
      ],
      "metadata": {
        "id": "jhRLeHgxaE_A"
      },
      "execution_count": null,
      "outputs": []
    },
    {
      "cell_type": "code",
      "source": [
        "# pip install transformers datasets"
      ],
      "metadata": {
        "id": "wykCn5jZaFML"
      },
      "execution_count": null,
      "outputs": []
    },
    {
      "cell_type": "code",
      "execution_count": null,
      "metadata": {
        "colab": {
          "base_uri": "https://localhost:8080/",
          "height": 350,
          "referenced_widgets": [
            "7a37029a4b4440adaefcf5bdc0c5b7e9",
            "08f1c3ce30e94cd88e12a7abc3442ea3",
            "997715cbc6584278aeea2b2e2f55d6ae",
            "6831ed12317e4a1087e80e8e6a389353",
            "77ef0526ecca40bb999c4ae9c7a2e33b",
            "cb31880b5b04406e876a3eb2c68f050d",
            "ccfd759665f7414599d1a7f8842dd518",
            "737d160cbc5e4b63a01224f709ff3e25",
            "f1247dce7de040d8a0836318a1fe271e",
            "febd206e076a4a32b014f633074c4184",
            "6974410c202e40ddae6ac9470f01fb46"
          ]
        },
        "id": "Gp5gY4j_ZjLa",
        "outputId": "ca856b86-a57b-41e1-d576-9a1fafb96134"
      },
      "outputs": [
        {
          "output_type": "display_data",
          "data": {
            "text/plain": [
              "Map:   0%|          | 0/100000 [00:00<?, ? examples/s]"
            ],
            "application/vnd.jupyter.widget-view+json": {
              "version_major": 2,
              "version_minor": 0,
              "model_id": "7a37029a4b4440adaefcf5bdc0c5b7e9"
            }
          },
          "metadata": {}
        },
        {
          "output_type": "stream",
          "name": "stderr",
          "text": [
            "<ipython-input-9-f3d34fd60f2e>:67: FutureWarning: `tokenizer` is deprecated and will be removed in version 5.0.0 for `Trainer.__init__`. Use `processing_class` instead.\n",
            "  trainer = Trainer(\n"
          ]
        },
        {
          "output_type": "display_data",
          "data": {
            "text/plain": [
              "<IPython.core.display.HTML object>"
            ],
            "text/html": [
              "\n",
              "    <div>\n",
              "      \n",
              "      <progress value='3021' max='3124' style='width:300px; height:20px; vertical-align: middle;'></progress>\n",
              "      [3021/3124 45:16 < 01:32, 1.11 it/s, Epoch 1.93/2]\n",
              "    </div>\n",
              "    <table border=\"1\" class=\"dataframe\">\n",
              "  <thead>\n",
              " <tr style=\"text-align: left;\">\n",
              "      <th>Step</th>\n",
              "      <th>Training Loss</th>\n",
              "    </tr>\n",
              "  </thead>\n",
              "  <tbody>\n",
              "    <tr>\n",
              "      <td>500</td>\n",
              "      <td>3.398200</td>\n",
              "    </tr>\n",
              "    <tr>\n",
              "      <td>1000</td>\n",
              "      <td>3.250100</td>\n",
              "    </tr>\n",
              "    <tr>\n",
              "      <td>1500</td>\n",
              "      <td>3.208400</td>\n",
              "    </tr>\n",
              "    <tr>\n",
              "      <td>2000</td>\n",
              "      <td>3.137800</td>\n",
              "    </tr>\n",
              "    <tr>\n",
              "      <td>2500</td>\n",
              "      <td>3.121000</td>\n",
              "    </tr>\n",
              "    <tr>\n",
              "      <td>3000</td>\n",
              "      <td>3.113200</td>\n",
              "    </tr>\n",
              "  </tbody>\n",
              "</table><p>"
            ]
          },
          "metadata": {}
        }
      ],
      "source": [
        "import os\n",
        "from datasets import load_dataset\n",
        "from transformers import (\n",
        "    AutoTokenizer,\n",
        "    AutoModelForCausalLM,\n",
        "    Trainer,\n",
        "    TrainingArguments,\n",
        "    DataCollatorForLanguageModeling,\n",
        ")\n",
        "import torch  # Necessário para verificar o dispositivo (GPU/CPU)\n",
        "\n",
        "# Configuração do modelo e tokenizer\n",
        "model_name = \"gpt2\"  # Nome do modelo pré-treinado (GPT-2 neste caso).\n",
        "tokenizer = AutoTokenizer.from_pretrained(model_name)\n",
        "model = AutoModelForCausalLM.from_pretrained(model_name)\n",
        "\n",
        "# Verificar se há GPU disponível e mover o modelo para o dispositivo correto\n",
        "device = torch.device(\"cuda\" if torch.cuda.is_available() else \"cpu\")\n",
        "model.to(device)\n",
        "\n",
        "# Adicionar um token de padding ao tokenizer\n",
        "tokenizer.pad_token = tokenizer.eos_token\n",
        "\n",
        "# Caminho para o dataset preparado\n",
        "dataset_path = \"/content/drive/My Drive/trn_filtered.json\"  # Certifique-se de que este arquivo foi gerado na etapa anterior.\n",
        "dataset = load_dataset(\"json\", data_files=dataset_path)\n",
        "\n",
        "# Limitar o dataset para 100.000 exemplos\n",
        "max_samples = 100_000\n",
        "dataset[\"train\"] = dataset[\"train\"].select(range(min(len(dataset[\"train\"]), max_samples)))\n",
        "\n",
        "# Função para tokenizar os dados\n",
        "def preprocess_function(examples):\n",
        "    \"\"\"\n",
        "    Concatena os campos de entrada ('input') e saída ('output') com o token EOS (<|endoftext|>)\n",
        "    e realiza a tokenização necessária.\n",
        "    \"\"\"\n",
        "    inputs = [inp + tokenizer.eos_token + out for inp, out in zip(examples[\"input\"], examples[\"output\"])]\n",
        "    return tokenizer(inputs, truncation=True, padding=\"max_length\", max_length=128)\n",
        "\n",
        "# Aplicar a tokenização ao dataset\n",
        "tokenized_dataset = dataset.map(preprocess_function, batched=True, remove_columns=dataset[\"train\"].column_names)\n",
        "\n",
        "# Configurar o Data Collator\n",
        "# Responsável por criar lotes de dados para entrada no modelo.\n",
        "data_collator = DataCollatorForLanguageModeling(\n",
        "    tokenizer=tokenizer,\n",
        "    mlm=False  # mlm=False porque GPT-2 é um modelo causal, não usa aprendizado de máscara.\n",
        ")\n",
        "\n",
        "# Configurações do treinamento\n",
        "training_args = TrainingArguments(\n",
        "    output_dir=\"./gpt2-finetuned\",  # Diretório para salvar os resultados do treinamento.\n",
        "    overwrite_output_dir=True,  # Permitir sobrescrever saídas anteriores.\n",
        "    learning_rate=5e-5,  # Taxa de aprendizado para o otimizador.\n",
        "    per_device_train_batch_size=16,  # Aumentar o tamanho do lote para aproveitar a GPU.\n",
        "    gradient_accumulation_steps=4,  # Ajustado para balancear memória e tamanho efetivo do lote.\n",
        "    num_train_epochs=2,  # Número de épocas reduzido.\n",
        "    save_strategy=\"no\",  # Não salvar checkpoints durante o treinamento.\n",
        "    logging_dir=\"./logs\",  # Diretório para salvar logs.\n",
        "    logging_steps=500,  # Frequência de log durante o treinamento.\n",
        "    report_to=\"none\",  # Evitar problemas com integrações externas como WandB.\n",
        "    fp16=True,  # Ativar Mixed Precision para acelerar o treinamento em GPUs com suporte.\n",
        ")\n",
        "\n",
        "# Configurar o Trainer\n",
        "trainer = Trainer(\n",
        "    model=model,  # Modelo que será ajustado.\n",
        "    args=training_args,  # Argumentos configurados para o treinamento.\n",
        "    train_dataset=tokenized_dataset[\"train\"],  # Dados de treinamento.\n",
        "    tokenizer=tokenizer,  # Tokenizer para processar os dados.\n",
        "    data_collator=data_collator,  # Collator para criar lotes de treinamento.\n",
        ")\n",
        "\n",
        "# Executar o treinamento\n",
        "trainer.train()\n",
        "\n",
        "# Salvar o modelo ajustado\n",
        "model.save_pretrained(\"./gpt2-finetuned\")  # Salvar os pesos do modelo ajustado.\n",
        "tokenizer.save_pretrained(\"./gpt2-finetuned\")  # Salvar o tokenizer ajustado.\n",
        "\n",
        "print(\"Fine-tuning concluído! O modelo foi salvo no diretório './gpt2-finetuned'.\")\n"
      ]
    },
    {
      "cell_type": "code",
      "source": [
        "!zip -r gpt2-finetuned.zip ./gpt2-finetuned"
      ],
      "metadata": {
        "id": "y2euJ87JafnE",
        "colab": {
          "base_uri": "https://localhost:8080/"
        },
        "outputId": "22b1b159-905a-4091-cf3e-0d012e14636b"
      },
      "execution_count": null,
      "outputs": [
        {
          "output_type": "stream",
          "name": "stdout",
          "text": [
            "  adding: gpt2-finetuned/ (stored 0%)\n",
            "  adding: gpt2-finetuned/vocab.json (deflated 59%)\n",
            "  adding: gpt2-finetuned/generation_config.json (deflated 24%)\n",
            "  adding: gpt2-finetuned/config.json (deflated 51%)\n",
            "  adding: gpt2-finetuned/model.safetensors (deflated 7%)\n",
            "  adding: gpt2-finetuned/tokenizer.json (deflated 82%)\n",
            "  adding: gpt2-finetuned/tokenizer_config.json (deflated 54%)\n",
            "  adding: gpt2-finetuned/special_tokens_map.json (deflated 60%)\n",
            "  adding: gpt2-finetuned/merges.txt (deflated 53%)\n"
          ]
        }
      ]
    }
  ]
}