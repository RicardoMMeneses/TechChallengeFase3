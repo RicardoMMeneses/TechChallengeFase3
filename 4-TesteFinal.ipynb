{
 "cells": [
  {
   "cell_type": "markdown",
   "id": "647ef59c-0fe8-49af-8ba7-65c2b4d9052a",
   "metadata": {},
   "source": [
    "# Faz os testes no modelo treinado"
   ]
  },
  {
   "cell_type": "code",
   "execution_count": 1,
   "id": "2297f17c-3682-43df-9afb-6e06113486cb",
   "metadata": {},
   "outputs": [],
   "source": [
    "# Biblioteca exigida para o do import da próxima célula\n",
    "#!pip install ipywidgets"
   ]
  },
  {
   "cell_type": "code",
   "execution_count": 2,
   "id": "29a159d8-349f-44a3-a405-36e412629849",
   "metadata": {},
   "outputs": [],
   "source": [
    "import os\n",
    "from transformers import AutoTokenizer, AutoModelForCausalLM"
   ]
  },
  {
   "cell_type": "code",
   "execution_count": 3,
   "id": "6cdcb916-ddb3-434a-b723-92db6ee7a213",
   "metadata": {},
   "outputs": [
    {
     "data": {
      "text/plain": [
       "GPT2LMHeadModel(\n",
       "  (transformer): GPT2Model(\n",
       "    (wte): Embedding(50257, 768)\n",
       "    (wpe): Embedding(1024, 768)\n",
       "    (drop): Dropout(p=0.1, inplace=False)\n",
       "    (h): ModuleList(\n",
       "      (0-11): 12 x GPT2Block(\n",
       "        (ln_1): LayerNorm((768,), eps=1e-05, elementwise_affine=True)\n",
       "        (attn): GPT2SdpaAttention(\n",
       "          (c_attn): Conv1D(nf=2304, nx=768)\n",
       "          (c_proj): Conv1D(nf=768, nx=768)\n",
       "          (attn_dropout): Dropout(p=0.1, inplace=False)\n",
       "          (resid_dropout): Dropout(p=0.1, inplace=False)\n",
       "        )\n",
       "        (ln_2): LayerNorm((768,), eps=1e-05, elementwise_affine=True)\n",
       "        (mlp): GPT2MLP(\n",
       "          (c_fc): Conv1D(nf=3072, nx=768)\n",
       "          (c_proj): Conv1D(nf=768, nx=3072)\n",
       "          (act): NewGELUActivation()\n",
       "          (dropout): Dropout(p=0.1, inplace=False)\n",
       "        )\n",
       "      )\n",
       "    )\n",
       "    (ln_f): LayerNorm((768,), eps=1e-05, elementwise_affine=True)\n",
       "  )\n",
       "  (lm_head): Linear(in_features=768, out_features=50257, bias=False)\n",
       ")"
      ]
     },
     "execution_count": 3,
     "metadata": {},
     "output_type": "execute_result"
    }
   ],
   "source": [
    "# Carregar modelo ajustado\n",
    "model_path = \"./gpt2-finetuned\"\n",
    "tokenizer = AutoTokenizer.from_pretrained(model_path)\n",
    "model = AutoModelForCausalLM.from_pretrained(model_path)\n",
    "\n",
    "# Colocar o modelo em modo de inferência\n",
    "model.eval()"
   ]
  },
  {
   "cell_type": "code",
   "execution_count": 4,
   "id": "b2b2c71c-b076-4d95-8f68-3e024328cf85",
   "metadata": {},
   "outputs": [],
   "source": [
    "# Texto de entrada\n",
    "# input_text = \"Qual é a descrição do produto Misty of Chincoteague?\"\n",
    "input_text = \"Qual é a descrição do produto Hilda Boswell's Treasury of Fairy Tales?\""
   ]
  },
  {
   "cell_type": "code",
   "execution_count": 5,
   "id": "e833db71-b521-4cd6-ac43-99265bfaefd4",
   "metadata": {},
   "outputs": [
    {
     "name": "stdout",
     "output_type": "stream",
     "text": [
      "Saída do modelo: Qual é a descrição do produto Hilda Boswell's Treasury of Fairy Tales?  The most complete collection of the famous fairy tales ever published! --Bass and Garden, September 1996This is one book that will delight your heart\n"
     ]
    }
   ],
   "source": [
    "# Tokenizar a entrada\n",
    "inputs = tokenizer(input_text, return_tensors=\"pt\")\n",
    "\n",
    "# Gerar texto com penalidade para repetições e sampling ativado\n",
    "outputs = model.generate(\n",
    "    **inputs,\n",
    "    max_length=50,\n",
    "    pad_token_id=tokenizer.eos_token_id,\n",
    "    repetition_penalty=1.2,\n",
    "    no_repeat_ngram_size=3,\n",
    "    temperature=0.7,\n",
    "    top_p=0.9,\n",
    "    do_sample=True  # Habilita geração com sampling\n",
    ")\n",
    "\n",
    "# Decodificar a saída\n",
    "output_text = tokenizer.decode(outputs[0], skip_special_tokens=True)\n",
    "print(\"Saída do modelo:\", output_text)"
   ]
  },
  {
   "cell_type": "markdown",
   "id": "9f7a5f8f-0677-4576-a746-7dc6988fa216",
   "metadata": {},
   "source": [
    "## Criei uma função para usar as mesmas perguntas que fiz no 2-Foudantion Model"
   ]
  },
  {
   "cell_type": "code",
   "execution_count": 6,
   "id": "d3a09629-8c00-4c1a-8a98-5a2b0402eaaa",
   "metadata": {},
   "outputs": [],
   "source": [
    "def get_content(input_text):\n",
    "    # Tokenizar a entrada\n",
    "    inputs = tokenizer(input_text, return_tensors=\"pt\")\n",
    "    # Decodificar a saída\n",
    "    return tokenizer.decode(outputs[0], skip_special_tokens=True)"
   ]
  },
  {
   "cell_type": "code",
   "execution_count": 8,
   "id": "8503364c-159b-4da0-befb-323cc6eda80b",
   "metadata": {},
   "outputs": [
    {
     "name": "stdout",
     "output_type": "stream",
     "text": [
      "Saída do modelo: Qual é a descrição do produto Hilda Boswell's Treasury of Fairy Tales?  The most complete collection of the famous fairy tales ever published! --Bass and Garden, September 1996This is one book that will delight your heart\n"
     ]
    }
   ],
   "source": [
    "print(\"Saída do modelo:\", get_content(\"Qual é a descrição do produto Adult Ballet Tutu Purple?\"))"
   ]
  },
  {
   "cell_type": "code",
   "execution_count": 9,
   "id": "e0a344a9-4fa0-4df3-b2af-235c1abcaef0",
   "metadata": {},
   "outputs": [
    {
     "name": "stdout",
     "output_type": "stream",
     "text": [
      "Saída do modelo: Qual é a descrição do produto Hilda Boswell's Treasury of Fairy Tales?  The most complete collection of the famous fairy tales ever published! --Bass and Garden, September 1996This is one book that will delight your heart\n"
     ]
    }
   ],
   "source": [
    "print(\"Saída do modelo:\", get_content(\"Qual é a descrição do produto The Way Things Work: An Illustrated Encyclopedia of Technology?\"))"
   ]
  },
  {
   "cell_type": "code",
   "execution_count": 10,
   "id": "d3b058c6-f546-4427-b1c5-4dfdcff6988f",
   "metadata": {},
   "outputs": [
    {
     "name": "stdout",
     "output_type": "stream",
     "text": [
      "Saída do modelo: Qual é a descrição do produto Hilda Boswell's Treasury of Fairy Tales?  The most complete collection of the famous fairy tales ever published! --Bass and Garden, September 1996This is one book that will delight your heart\n"
     ]
    }
   ],
   "source": [
    "print(\"Saída do modelo:\", get_content(\"Qual é a descrição do produto Misty of Chincoteague?\"))"
   ]
  },
  {
   "cell_type": "code",
   "execution_count": 11,
   "id": "28b59903-08ef-496d-8876-274a97fb0fdb",
   "metadata": {},
   "outputs": [
    {
     "name": "stdout",
     "output_type": "stream",
     "text": [
      "Saída do modelo: Qual é a descrição do produto Hilda Boswell's Treasury of Fairy Tales?  The most complete collection of the famous fairy tales ever published! --Bass and Garden, September 1996This is one book that will delight your heart\n"
     ]
    }
   ],
   "source": [
    "print(\"Saída do modelo:\", get_content(\"Qual é a descrição do produto Hilda Boswell's Treasury of Fairy Tales?\"))"
   ]
  },
  {
   "cell_type": "code",
   "execution_count": 12,
   "id": "aa480953-83c1-41b1-bdea-04bda1383608",
   "metadata": {},
   "outputs": [
    {
     "name": "stdout",
     "output_type": "stream",
     "text": [
      "Saída do modelo: Qual é a descrição do produto Hilda Boswell's Treasury of Fairy Tales?  The most complete collection of the famous fairy tales ever published! --Bass and Garden, September 1996This is one book that will delight your heart\n"
     ]
    }
   ],
   "source": [
    "print(\"Saída do modelo:\", get_content(\"Qual é a descrição do produto Dr. Seuss ABC (Dr.Seuss Classic Collection)?\"))"
   ]
  },
  {
   "cell_type": "code",
   "execution_count": 13,
   "id": "3d5c7539-8e9a-415f-bf4d-3c11ccac43e3",
   "metadata": {},
   "outputs": [
    {
     "name": "stdout",
     "output_type": "stream",
     "text": [
      "Saída do modelo: Qual é a descrição do produto Hilda Boswell's Treasury of Fairy Tales?  The most complete collection of the famous fairy tales ever published! --Bass and Garden, September 1996This is one book that will delight your heart\n"
     ]
    }
   ],
   "source": [
    "print(\"Saída do modelo:\", get_content(\"Qual é a descrição do produto Adult Ballet Tutu Purple?\"))"
   ]
  },
  {
   "cell_type": "code",
   "execution_count": 14,
   "id": "5b84b242-8e6e-48c6-a436-c870b8f2149e",
   "metadata": {},
   "outputs": [
    {
     "name": "stdout",
     "output_type": "stream",
     "text": [
      "Saída do modelo: Qual é a descrição do produto Hilda Boswell's Treasury of Fairy Tales?  The most complete collection of the famous fairy tales ever published! --Bass and Garden, September 1996This is one book that will delight your heart\n"
     ]
    }
   ],
   "source": [
    "print(\"Saída do modelo:\", get_content(\"Qual a descrição do produto Girls Ballet Tutu Neon Pink?\"))"
   ]
  },
  {
   "cell_type": "code",
   "execution_count": null,
   "id": "5a4e85b7-b72c-4375-8cc3-bfcffa636733",
   "metadata": {},
   "outputs": [],
   "source": []
  }
 ],
 "metadata": {
  "kernelspec": {
   "display_name": "Python (Python_Python312)",
   "language": "python",
   "name": "python_python312"
  },
  "language_info": {
   "codemirror_mode": {
    "name": "ipython",
    "version": 3
   },
   "file_extension": ".py",
   "mimetype": "text/x-python",
   "name": "python",
   "nbconvert_exporter": "python",
   "pygments_lexer": "ipython3",
   "version": "3.12.8"
  }
 },
 "nbformat": 4,
 "nbformat_minor": 5
}
