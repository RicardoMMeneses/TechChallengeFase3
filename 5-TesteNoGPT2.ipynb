{
 "cells": [
  {
   "cell_type": "code",
   "execution_count": 1,
   "id": "98fe8b05-faf1-46d7-b6e3-02d74548a1e2",
   "metadata": {},
   "outputs": [],
   "source": [
    "# Essa célula só precisa ser executada se a biblioteca utilizada na próxima célula não estiver instalada.\n",
    "# !pip install transformers torch"
   ]
  },
  {
   "cell_type": "code",
   "execution_count": 2,
   "id": "3cfdd9fa-b7cc-402e-9ef5-6d9d6f819e3b",
   "metadata": {},
   "outputs": [],
   "source": [
    "# Importa os módulos AutoModelForCausalLM, AutoTokenizer, o que cada um faz será explicado um pouco mais a frente\n",
    "from transformers import AutoModelForCausalLM, AutoTokenizer"
   ]
  },
  {
   "cell_type": "code",
   "execution_count": 3,
   "id": "b81a4d1a-1379-4f1b-b14e-49dd0cb6fac3",
   "metadata": {},
   "outputs": [],
   "source": [
    "# Modelo escolhido GPT-2, tenho mais familiaridade com o GPT\n",
    "model_name = \"gpt2\"  # Nome do modelo pré-treinado a ser usado. GPT-2 é um modelo amplamente utilizado para geração de texto."
   ]
  },
  {
   "cell_type": "code",
   "execution_count": 4,
   "id": "70f0c198-6b6b-4dff-ac87-a8ad5db70927",
   "metadata": {},
   "outputs": [],
   "source": [
    "# Carregar o tokenizer e o modelo\n",
    "# O tokenizer é responsável por dividir o texto em tokens, os quais são compreendidos pelo modelo.\n",
    "# O modelo é a parte responsável por gerar respostas com base nos tokens fornecidos.\n",
    "tokenizer = AutoTokenizer.from_pretrained(model_name)\n",
    "model = AutoModelForCausalLM.from_pretrained(model_name)"
   ]
  },
  {
   "cell_type": "code",
   "execution_count": 5,
   "id": "83fe65b9-bf5f-44fd-b366-c70f40032e28",
   "metadata": {},
   "outputs": [],
   "source": [
    "# Recupera as informações com base no prompt informado\n",
    "def get_content(prompt):\n",
    "    # Tokenizar o prompt\n",
    "    # Converte o texto em uma sequência de tokens que o modelo pode processar.\n",
    "    inputs = tokenizer(prompt, return_tensors=\"pt\")  # O parâmetro return_tensors=\"pt\" indica que os dados serão retornados no formato PyTorch.\n",
    "    \n",
    "    # Gerar resposta usando o modelo\n",
    "    # O método generate cria uma saída baseada nos tokens fornecidos como entrada.\n",
    "    # max_length define o comprimento máximo da saída gerada.\n",
    "    # num_return_sequences especifica quantas respostas diferentes o modelo deve gerar.\n",
    "    outputs = model.generate(**inputs, max_length=50, num_return_sequences=1)\n",
    "    \n",
    "    # Decodificar a resposta\n",
    "    # Converte os tokens gerados de volta para texto legível.\n",
    "    # skip_special_tokens remove tokens especiais como <eos> (end of sequence).\n",
    "    return tokenizer.decode(outputs[0], skip_special_tokens=True)"
   ]
  },
  {
   "cell_type": "code",
   "execution_count": 6,
   "id": "6b20e6a9-9c55-4a5e-ac5a-4550b58aaaec",
   "metadata": {},
   "outputs": [
    {
     "name": "stderr",
     "output_type": "stream",
     "text": [
      "Setting `pad_token_id` to `eos_token_id`:50256 for open-end generation.\n"
     ]
    },
    {
     "name": "stdout",
     "output_type": "stream",
     "text": [
      "Qual é a descrição do produto Adult Ballet Tutu Purple?\n",
      "\n",
      "Yes, it is.\n",
      "\n",
      "The first time I saw this, I was in the middle of a performance of the \"The Great American Ballet\"\n"
     ]
    }
   ],
   "source": [
    "print(get_content(\"Qual é a descrição do produto Adult Ballet Tutu Purple?\"))"
   ]
  },
  {
   "cell_type": "code",
   "execution_count": 7,
   "id": "8411ec40-0e6c-4a60-aaa9-b51ad31f4e81",
   "metadata": {},
   "outputs": [
    {
     "name": "stderr",
     "output_type": "stream",
     "text": [
      "Setting `pad_token_id` to `eos_token_id`:50256 for open-end generation.\n"
     ]
    },
    {
     "name": "stdout",
     "output_type": "stream",
     "text": [
      "Qual é a descrição do produto The Way Things Work: An Illustrated Encyclopedia of Technology? by John W. Campbell, ed. by John W. Campbell, Jr. (New York: Oxford University Press, 1994), pp. 5\n"
     ]
    }
   ],
   "source": [
    "print(get_content(\"Qual é a descrição do produto The Way Things Work: An Illustrated Encyclopedia of Technology?\"))"
   ]
  },
  {
   "cell_type": "code",
   "execution_count": 8,
   "id": "3c4e5e8b-744f-4472-a260-39dc25206542",
   "metadata": {},
   "outputs": [
    {
     "name": "stderr",
     "output_type": "stream",
     "text": [
      "Setting `pad_token_id` to `eos_token_id`:50256 for open-end generation.\n"
     ]
    },
    {
     "name": "stdout",
     "output_type": "stream",
     "text": [
      "Qual é a descrição do produto Misty of Chincoteague?\n",
      "\n",
      "A: Yes.\n",
      "\n",
      "Q: What is the most important thing you want to say to people who are interested in the game?\n",
      "\n",
      "A:\n"
     ]
    }
   ],
   "source": [
    "print(get_content(\"Qual é a descrição do produto Misty of Chincoteague?\"))"
   ]
  },
  {
   "cell_type": "code",
   "execution_count": 9,
   "id": "9ca44c58-fc0e-41ac-835d-4e26bf824183",
   "metadata": {},
   "outputs": [
    {
     "name": "stderr",
     "output_type": "stream",
     "text": [
      "Setting `pad_token_id` to `eos_token_id`:50256 for open-end generation.\n"
     ]
    },
    {
     "name": "stdout",
     "output_type": "stream",
     "text": [
      "Qual é a descrição do produto Hilda Boswell's Treasury of Fairy Tales?\n",
      "\n",
      "The first time I saw the book was in the early 1980s, when I was working on a book about the history of the English language\n"
     ]
    }
   ],
   "source": [
    "print(get_content(\"Qual é a descrição do produto Hilda Boswell's Treasury of Fairy Tales?\"))"
   ]
  },
  {
   "cell_type": "code",
   "execution_count": 10,
   "id": "3fbee94d-92e8-4c9c-adc2-838dc000018f",
   "metadata": {},
   "outputs": [
    {
     "name": "stderr",
     "output_type": "stream",
     "text": [
      "Setting `pad_token_id` to `eos_token_id`:50256 for open-end generation.\n"
     ]
    },
    {
     "name": "stdout",
     "output_type": "stream",
     "text": [
      "Qual é a descrição do produto Dr. Seuss ABC (Dr.Seuss Classic Collection)?\n",
      "\n",
      "Dr. Seuss is a pioneer in the field of medicine. He has been a pioneer in the field of medicine for over\n"
     ]
    }
   ],
   "source": [
    "print(get_content(\"Qual é a descrição do produto Dr. Seuss ABC (Dr.Seuss Classic Collection)?\"))"
   ]
  },
  {
   "cell_type": "code",
   "execution_count": 11,
   "id": "4a7ce6c7-273b-4705-b104-b8b641a50edc",
   "metadata": {},
   "outputs": [
    {
     "name": "stderr",
     "output_type": "stream",
     "text": [
      "Setting `pad_token_id` to `eos_token_id`:50256 for open-end generation.\n"
     ]
    },
    {
     "name": "stdout",
     "output_type": "stream",
     "text": [
      "Qual é a descrição do produto Adult Ballet Tutu Purple?\n",
      "\n",
      "Yes, it is.\n",
      "\n",
      "The first time I saw this, I was in the middle of a performance of the \"The Great American Ballet\"\n"
     ]
    }
   ],
   "source": [
    "print(get_content(\"Qual é a descrição do produto Adult Ballet Tutu Purple?\"))"
   ]
  },
  {
   "cell_type": "code",
   "execution_count": 12,
   "id": "fb5cef1e-fa5a-476c-9d21-7ec2b2b5d561",
   "metadata": {},
   "outputs": [
    {
     "name": "stderr",
     "output_type": "stream",
     "text": [
      "Setting `pad_token_id` to `eos_token_id`:50256 for open-end generation.\n"
     ]
    },
    {
     "name": "stdout",
     "output_type": "stream",
     "text": [
      "Qual a descrição do produto Girls Ballet Tutu Neon Pink?\n",
      "\n",
      "The girls are all in their 20s and 30s, and they're all in their 20s and 30s. They're all in their 20s\n"
     ]
    }
   ],
   "source": [
    "print(get_content(\"Qual a descrição do produto Girls Ballet Tutu Neon Pink?\"))"
   ]
  }
 ],
 "metadata": {
  "kernelspec": {
   "display_name": "Python (Python_Python312)",
   "language": "python",
   "name": "python_python312"
  },
  "language_info": {
   "codemirror_mode": {
    "name": "ipython",
    "version": 3
   },
   "file_extension": ".py",
   "mimetype": "text/x-python",
   "name": "python",
   "nbconvert_exporter": "python",
   "pygments_lexer": "ipython3",
   "version": "3.12.8"
  }
 },
 "nbformat": 4,
 "nbformat_minor": 5
}
