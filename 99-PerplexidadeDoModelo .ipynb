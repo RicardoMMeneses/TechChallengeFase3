{
 "cells": [
  {
   "cell_type": "code",
   "execution_count": 1,
   "id": "c9017f46-4b9f-4e31-a8a7-a94e9e7e1a16",
   "metadata": {},
   "outputs": [
    {
     "name": "stdout",
     "output_type": "stream",
     "text": [
      "Modelo carregado e em modo de avaliação.\n"
     ]
    }
   ],
   "source": [
    "# Importa os módulos AutoModelForCausalLM, AutoTokenizer, o que cada um faz será explicado um pouco mais a frente\n",
    "from transformers import AutoTokenizer, AutoModelForCausalLM\n",
    "\n",
    "# Caminho do modelo fine-tuned salvo\n",
    "model_path = \"./gpt2-finetuned\"\n",
    "\n",
    "# Carregar o tokenizer e o modelo\n",
    "tokenizer = AutoTokenizer.from_pretrained(model_path)\n",
    "model = AutoModelForCausalLM.from_pretrained(model_path)\n",
    "\n",
    "# Colocar o modelo em modo de avaliação\n",
    "model.eval()\n",
    "print(\"Modelo carregado e em modo de avaliação.\")"
   ]
  },
  {
   "cell_type": "code",
   "execution_count": 2,
   "id": "22b07875-148b-4e46-8aff-c6b7812caa39",
   "metadata": {},
   "outputs": [
    {
     "name": "stdout",
     "output_type": "stream",
     "text": [
      "DatasetDict({\n",
      "    train: Dataset({\n",
      "        features: ['input', 'output'],\n",
      "        num_rows: 200000\n",
      "    })\n",
      "})\n"
     ]
    }
   ],
   "source": [
    "import os # Garante o uso do diretório correto, independente de onde o script é executado.\n",
    "from datasets import load_dataset # Carregar datasets de maneira eficiente e padronizada\n",
    "\n",
    "# Verifica se o código está em um notebook ou script\n",
    "try:\n",
    "    script_dir = os.path.dirname(__file__)  # Diretório do script\n",
    "except NameError:\n",
    "    script_dir = os.getcwd()  # Diretório atual (para notebooks)\n",
    "\n",
    "# Caminho do arquivo\n",
    "file_name = \"trn_filtered.json\"\n",
    "file_path = os.path.join(script_dir, file_name)\n",
    "\n",
    "# Carregar o dataset\n",
    "dataset = load_dataset(\"json\", data_files=file_path)\n",
    "print(dataset)"
   ]
  },
  {
   "cell_type": "code",
   "execution_count": 3,
   "id": "b3b15988-249f-4a33-bd9d-dc632af51bc7",
   "metadata": {},
   "outputs": [
    {
     "name": "stdout",
     "output_type": "stream",
     "text": [
      "Dataset({\n",
      "    features: ['input_ids', 'attention_mask'],\n",
      "    num_rows: 200000\n",
      "})\n"
     ]
    }
   ],
   "source": [
    "# Função para tokenizar o dataset\n",
    "def preprocess_function(examples):\n",
    "    \"\"\"\n",
    "    Concatena os campos 'input' e 'output' com o token EOS (<|endoftext|>).\n",
    "    \"\"\"\n",
    "    inputs = [inp + tokenizer.eos_token + out for inp, out in zip(examples[\"input\"], examples[\"output\"])]\n",
    "    return tokenizer(inputs, truncation=True, padding=\"max_length\", max_length=128)\n",
    "\n",
    "# Tokenizar o dataset\n",
    "tokenized_dataset = dataset[\"train\"].map(\n",
    "    preprocess_function, \n",
    "    batched=True, \n",
    "    remove_columns=[\"input\", \"output\"]  # Remove colunas antigas\n",
    ")\n",
    "\n",
    "# Exibir informações do dataset tokenizado\n",
    "print(tokenized_dataset)\n"
   ]
  },
  {
   "cell_type": "code",
   "execution_count": 4,
   "id": "a4580e71-05ea-4153-bf5f-7456a1345c45",
   "metadata": {},
   "outputs": [
    {
     "name": "stdout",
     "output_type": "stream",
     "text": [
      "WARNING:tensorflow:From E:\\Python\\Python312\\Lib\\site-packages\\tf_keras\\src\\losses.py:2976: The name tf.losses.sparse_softmax_cross_entropy is deprecated. Please use tf.compat.v1.losses.sparse_softmax_cross_entropy instead.\n",
      "\n"
     ]
    }
   ],
   "source": [
    "from transformers import Trainer, TrainingArguments, DataCollatorForLanguageModeling\n",
    "\n",
    "# Configurar o Data Collator\n",
    "data_collator = DataCollatorForLanguageModeling(\n",
    "    tokenizer=tokenizer,\n",
    "    mlm=False  # mlm=False porque GPT-2 é um modelo causal (não usa máscara)\n",
    ")\n",
    "\n",
    "# Configurar os argumentos do Trainer\n",
    "training_args = TrainingArguments(\n",
    "    output_dir=\"./results\",  # Diretório de saída\n",
    "    per_device_eval_batch_size=4,  # Tamanho do batch para avaliação\n",
    "    report_to=\"none\"  # Evitar integração com sistemas externos como WandB\n",
    ")\n",
    "\n",
    "# Criar o Trainer\n",
    "trainer = Trainer(\n",
    "    model=model,\n",
    "    args=training_args,\n",
    "    eval_dataset=tokenized_dataset.select(range(100)),  # Subconjunto pequeno para avaliação\n",
    "    data_collator=data_collator  # Já organiza os lotes corretamente\n",
    ")"
   ]
  },
  {
   "cell_type": "code",
   "execution_count": 5,
   "id": "564355e0-cbd4-4990-8b2e-b75db07c4066",
   "metadata": {},
   "outputs": [
    {
     "data": {
      "text/html": [
       "\n",
       "    <div>\n",
       "      \n",
       "      <progress value='25' max='25' style='width:300px; height:20px; vertical-align: middle;'></progress>\n",
       "      [25/25 00:14]\n",
       "    </div>\n",
       "    "
      ],
      "text/plain": [
       "<IPython.core.display.HTML object>"
      ]
     },
     "metadata": {},
     "output_type": "display_data"
    },
    {
     "name": "stdout",
     "output_type": "stream",
     "text": [
      "Resultados da avaliação: {'eval_loss': 3.0004303455352783, 'eval_model_preparation_time': 0.003, 'eval_runtime': 15.1712, 'eval_samples_per_second': 6.591, 'eval_steps_per_second': 1.648}\n",
      "Perplexidade do modelo ajustado: 20.094182504486458\n"
     ]
    }
   ],
   "source": [
    "import math\n",
    "\n",
    "# Avaliar o modelo\n",
    "results = trainer.evaluate()\n",
    "print(\"Resultados da avaliação:\", results)\n",
    "\n",
    "# Calcular a perplexidade\n",
    "if \"eval_loss\" in results:\n",
    "    perplexity = math.exp(results[\"eval_loss\"])\n",
    "    print(f\"Perplexidade do modelo ajustado: {perplexity}\")\n",
    "else:\n",
    "    print(\"A chave 'eval_loss' não está presente nos resultados.\")\n"
   ]
  },
  {
   "cell_type": "code",
   "execution_count": null,
   "id": "d7c10239-a8c0-4caf-a5a8-2a1675b21e4d",
   "metadata": {},
   "outputs": [],
   "source": []
  }
 ],
 "metadata": {
  "kernelspec": {
   "display_name": "Python (Python_Python312)",
   "language": "python",
   "name": "python_python312"
  },
  "language_info": {
   "codemirror_mode": {
    "name": "ipython",
    "version": 3
   },
   "file_extension": ".py",
   "mimetype": "text/x-python",
   "name": "python",
   "nbconvert_exporter": "python",
   "pygments_lexer": "ipython3",
   "version": "3.12.8"
  }
 },
 "nbformat": 4,
 "nbformat_minor": 5
}
