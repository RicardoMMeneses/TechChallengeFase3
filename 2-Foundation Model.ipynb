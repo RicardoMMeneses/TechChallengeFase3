{
 "cells": [
  {
   "cell_type": "markdown",
   "id": "20c528d5-536c-4eb1-a4f3-d5abee852109",
   "metadata": {},
   "source": [
    "# Faz buscas no GPT2 sem realização do treinamento"
   ]
  },
  {
   "cell_type": "code",
   "execution_count": 3,
   "id": "60bafba0-35f8-4958-9c2e-d9169ea3be57",
   "metadata": {},
   "outputs": [],
   "source": [
    "# Essa célula só precisa ser executada se a biblioteca utilizada na próxima célula não estiver instalada.\n",
    "# !pip install transformers torch"
   ]
  },
  {
   "cell_type": "code",
   "execution_count": 4,
   "id": "3106d945-8ea7-4259-8bec-9b9e38b30f93",
   "metadata": {},
   "outputs": [],
   "source": [
    "# Importa os módulos AutoModelForCausalLM, AutoTokenizer, o que cada um faz será explicado um pouco mais a frente\n",
    "from transformers import AutoModelForCausalLM, AutoTokenizer"
   ]
  },
  {
   "cell_type": "code",
   "execution_count": 5,
   "id": "9b56ec1c-40c1-4e02-b388-1690eb13fb20",
   "metadata": {},
   "outputs": [],
   "source": [
    "# Modelo escolhido GPT-2, tenho mais familiaridade com o GPT\n",
    "model_name = \"gpt2\"  # Nome do modelo pré-treinado a ser usado. GPT-2 é um modelo amplamente utilizado para geração de texto."
   ]
  },
  {
   "cell_type": "code",
   "execution_count": 6,
   "id": "4f2c25c9-b94c-4e39-a424-e1b493fb8383",
   "metadata": {},
   "outputs": [],
   "source": [
    "# Carregar o tokenizer e o modelo\n",
    "# O tokenizer é responsável por dividir o texto em tokens, os quais são compreendidos pelo modelo.\n",
    "# O modelo é a parte responsável por gerar respostas com base nos tokens fornecidos.\n",
    "tokenizer = AutoTokenizer.from_pretrained(model_name)\n",
    "model = AutoModelForCausalLM.from_pretrained(model_name)"
   ]
  },
  {
   "cell_type": "code",
   "execution_count": 7,
   "id": "4eae870c-161b-448f-b17b-b5daac3f839a",
   "metadata": {},
   "outputs": [],
   "source": [
    "# Recupera as informações com base no prompt informado\n",
    "def get_content(prompt):\n",
    "    # Tokenizar o prompt\n",
    "    # Converte o texto em uma sequência de tokens que o modelo pode processar.\n",
    "    inputs = tokenizer(prompt, return_tensors=\"pt\")  # O parâmetro return_tensors=\"pt\" indica que os dados serão retornados no formato PyTorch.\n",
    "    \n",
    "    # Gerar resposta usando o modelo\n",
    "    # O método generate cria uma saída baseada nos tokens fornecidos como entrada.\n",
    "    # max_length define o comprimento máximo da saída gerada.\n",
    "    # num_return_sequences especifica quantas respostas diferentes o modelo deve gerar.\n",
    "    outputs = model.generate(**inputs, max_length=50, num_return_sequences=1)\n",
    "    \n",
    "    # Decodificar a resposta\n",
    "    # Converte os tokens gerados de volta para texto legível.\n",
    "    # skip_special_tokens remove tokens especiais como <eos> (end of sequence).\n",
    "    return tokenizer.decode(outputs[0], skip_special_tokens=True)"
   ]
  },
  {
   "cell_type": "markdown",
   "id": "6225973c-4c85-46e6-925c-524f99de0f89",
   "metadata": {},
   "source": [
    "# Teste do prompt (antes do fine-tunning)\n",
    "## Todas as perguntas realizadas aqui serão refeitas após o fine-tunning\n",
    "Fiz perguntas pegando alguns assuntos do próprio arquivo que usei como perguntas"
   ]
  },
  {
   "cell_type": "code",
   "execution_count": 8,
   "id": "e117f4fb-3828-422f-9c17-de8f583dcffd",
   "metadata": {},
   "outputs": [
    {
     "name": "stderr",
     "output_type": "stream",
     "text": [
      "Setting `pad_token_id` to `eos_token_id`:50256 for open-end generation.\n"
     ]
    },
    {
     "name": "stdout",
     "output_type": "stream",
     "text": [
      "Qual é a descrição do produto Adult Ballet Tutu Purple?\n",
      "\n",
      "Yes, it is.\n",
      "\n",
      "The first time I saw this, I was in the middle of a performance of the \"The Great American Ballet\"\n"
     ]
    }
   ],
   "source": [
    "print(get_content(\"Qual é a descrição do produto Adult Ballet Tutu Purple?\"))"
   ]
  },
  {
   "cell_type": "code",
   "execution_count": 9,
   "id": "410c46c2-b22d-406d-81cb-38f79267e29e",
   "metadata": {},
   "outputs": [
    {
     "name": "stderr",
     "output_type": "stream",
     "text": [
      "Setting `pad_token_id` to `eos_token_id`:50256 for open-end generation.\n"
     ]
    },
    {
     "name": "stdout",
     "output_type": "stream",
     "text": [
      "Qual é a descrição do produto The Way Things Work: An Illustrated Encyclopedia of Technology? by John W. Campbell, ed. by John W. Campbell, Jr. (New York: Oxford University Press, 1994), pp. 5\n"
     ]
    }
   ],
   "source": [
    "print(get_content(\"Qual é a descrição do produto The Way Things Work: An Illustrated Encyclopedia of Technology?\"))"
   ]
  },
  {
   "cell_type": "code",
   "execution_count": 10,
   "id": "43ef6bdb-b499-4b16-9777-19cd9e00ae97",
   "metadata": {},
   "outputs": [
    {
     "name": "stderr",
     "output_type": "stream",
     "text": [
      "Setting `pad_token_id` to `eos_token_id`:50256 for open-end generation.\n"
     ]
    },
    {
     "name": "stdout",
     "output_type": "stream",
     "text": [
      "Qual é a descrição do produto Misty of Chincoteague?\n",
      "\n",
      "A: Yes.\n",
      "\n",
      "Q: What is the most important thing you want to say to people who are interested in the game?\n",
      "\n",
      "A:\n"
     ]
    }
   ],
   "source": [
    "print(get_content(\"Qual é a descrição do produto Misty of Chincoteague?\"))"
   ]
  },
  {
   "cell_type": "code",
   "execution_count": 11,
   "id": "6063fd68-6780-4849-b436-c675c51cea3e",
   "metadata": {},
   "outputs": [
    {
     "name": "stderr",
     "output_type": "stream",
     "text": [
      "Setting `pad_token_id` to `eos_token_id`:50256 for open-end generation.\n"
     ]
    },
    {
     "name": "stdout",
     "output_type": "stream",
     "text": [
      "Qual é a descrição do produto Hilda Boswell's Treasury of Fairy Tales?\n",
      "\n",
      "The first time I saw the book was in the early 1980s, when I was working on a book about the history of the English language\n"
     ]
    }
   ],
   "source": [
    "print(get_content(\"Qual é a descrição do produto Hilda Boswell's Treasury of Fairy Tales?\"))"
   ]
  },
  {
   "cell_type": "code",
   "execution_count": 12,
   "id": "be5931a9-736b-4043-bb9a-5cdd018e402b",
   "metadata": {},
   "outputs": [
    {
     "name": "stderr",
     "output_type": "stream",
     "text": [
      "Setting `pad_token_id` to `eos_token_id`:50256 for open-end generation.\n"
     ]
    },
    {
     "name": "stdout",
     "output_type": "stream",
     "text": [
      "Qual é a descrição do produto Dr. Seuss ABC (Dr.Seuss Classic Collection)?\n",
      "\n",
      "Dr. Seuss is a pioneer in the field of medicine. He has been a pioneer in the field of medicine for over\n"
     ]
    }
   ],
   "source": [
    "print(get_content(\"Qual é a descrição do produto Dr. Seuss ABC (Dr.Seuss Classic Collection)?\"))"
   ]
  },
  {
   "cell_type": "code",
   "execution_count": 13,
   "id": "cb1bbf87-0977-476c-b1a7-0ff50957a611",
   "metadata": {},
   "outputs": [
    {
     "name": "stderr",
     "output_type": "stream",
     "text": [
      "Setting `pad_token_id` to `eos_token_id`:50256 for open-end generation.\n"
     ]
    },
    {
     "name": "stdout",
     "output_type": "stream",
     "text": [
      "Qual é a descrição do produto Adult Ballet Tutu Purple?\n",
      "\n",
      "Yes, it is.\n",
      "\n",
      "The first time I saw this, I was in the middle of a performance of the \"The Great American Ballet\"\n"
     ]
    }
   ],
   "source": [
    "print(get_content(\"Qual é a descrição do produto Adult Ballet Tutu Purple?\"))"
   ]
  },
  {
   "cell_type": "code",
   "execution_count": 14,
   "id": "b10df928-234d-46e3-8c32-406443f1d9de",
   "metadata": {},
   "outputs": [
    {
     "name": "stderr",
     "output_type": "stream",
     "text": [
      "Setting `pad_token_id` to `eos_token_id`:50256 for open-end generation.\n"
     ]
    },
    {
     "name": "stdout",
     "output_type": "stream",
     "text": [
      "Qual a descrição do produto Girls Ballet Tutu Neon Pink?\n",
      "\n",
      "The girls are all in their 20s and 30s, and they're all in their 20s and 30s. They're all in their 20s\n"
     ]
    }
   ],
   "source": [
    "print(get_content(\"Qual a descrição do produto Girls Ballet Tutu Neon Pink?\"))"
   ]
  },
  {
   "cell_type": "code",
   "execution_count": null,
   "id": "91da89d5-dfc9-47ad-8f36-0193e976a873",
   "metadata": {},
   "outputs": [],
   "source": []
  }
 ],
 "metadata": {
  "kernelspec": {
   "display_name": "Python (Python_Python312)",
   "language": "python",
   "name": "python_python312"
  },
  "language_info": {
   "codemirror_mode": {
    "name": "ipython",
    "version": 3
   },
   "file_extension": ".py",
   "mimetype": "text/x-python",
   "name": "python",
   "nbconvert_exporter": "python",
   "pygments_lexer": "ipython3",
   "version": "3.12.8"
  }
 },
 "nbformat": 4,
 "nbformat_minor": 5
}
