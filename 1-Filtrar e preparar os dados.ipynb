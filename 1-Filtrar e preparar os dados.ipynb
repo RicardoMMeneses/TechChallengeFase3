{
 "cells": [
  {
   "cell_type": "markdown",
   "id": "07f32b8b-ac8d-4fa0-86a7-85d929bb4f28",
   "metadata": {},
   "source": [
    "# Código para delimitar a quantidade de registros utilizados\n",
    "\n",
    "## Versão do Python\n",
    "O código foi executado na verão Python 3.12.8 (tags/v3.12.8:2dc476b, Dec  3 2024, 19:30:04) [MSC v.1942 64 bit (AMD64)] on win32\n",
    "Type \"help\", \"copyright\", \"credits\" or \"license\" for more information. A exceção é o arquivo 3-Fine-tuning, pois o mesmo precisou ser processado no Colab e usou a versão 3.10 do Python.\n",
    "\n",
    "## Quantidade registros\n",
    "Conforme dito no vídeo de apresentação do Tech Challenge a base é muito grande para ser processada em computadores \"normais\".\n",
    "Não estou dizendo que não dá para processar, mas o tempo necessário pode prejudicar a entrega do resultado esperado.\n",
    "Por sugestão do professor, inicialmente limitei a 200 mil registros.\n",
    "## Intervalo usado para quantidade de palavras\n",
    "Defini a quantidade de palavras entre 10 e 200 para melhorar o tempo de treinamento e inferência, além de evitarmos assim, com uma boa margem de segurança, passar a quantidade máxima tokens por entrada para o modelo BERT (512 tokens), o GTP aceita um pouco mais de tokens. Ainda não tenho certeza do modelo que irei utilizar, então optei por ser conservador e usar o que aceita menos tokens para evitar ter que processar novamente os dados de entrada.\n",
    "\n",
    "## Arquivos de dados e código fonte\n",
    "Para facilitar o entendimento, os arquivos de código foram numerados. Dessa maneira a ordem de execução dos arquivos segue a numeração.\n",
    "Os arquivos de dados devem estar na mesma pasta dos arquivos de código fonte.\n",
    "\n",
    "Obs.: \n",
    "1 - Todas as linhas foram comentadas para facilitar o entendimento do código.\n",
    "     \n",
    "2 - Em função de uma prática que utilizo há algum tempo, todo o código é gerado na língua Inglesa. Tal hábito foi adquirido para facilitar os debates ou dúvidas sobre o meus código com pessoas de outras nacionalidades, como o código é para o Tech Challenge coloquei todos os comentários e mensagens em Português do Brasil.\n",
    "\n",
    "3 - Indiretamente a base foi higienizada ao tratar o intervalo da quantidade de palavras e não aceitar dados nulos na amostra de 200.000 registros."
   ]
  },
  {
   "cell_type": "code",
   "execution_count": 9,
   "id": "4d83b71b-a6a3-4adc-8e29-c33e5999d1b5",
   "metadata": {},
   "outputs": [],
   "source": [
    "# Essa célula só precisa ser executada se as bibliotecas utilizadas na próxima célula não estiverem instaladas.\n",
    "# !pip install gzip\n",
    "# !pip install json\n",
    "# !pip install random"
   ]
  },
  {
   "cell_type": "code",
   "execution_count": 1,
   "id": "81647aeb-712e-4afc-ae1a-173c9eaf4aaf",
   "metadata": {},
   "outputs": [],
   "source": [
    "import gzip  # Manipula arquivos .gz para leitura direta.\n",
    "import json  # Trabalha com dados no formato JSON.\n",
    "import random  # Embaralha os registros para diversidade nos dados de saída.\n",
    "import os  # Garante o uso do diretório correto, independente de onde o script é executado."
   ]
  },
  {
   "cell_type": "code",
   "execution_count": 11,
   "id": "48c42510-60a8-4b34-a6e6-04a2f224d6d0",
   "metadata": {},
   "outputs": [
    {
     "name": "stdout",
     "output_type": "stream",
     "text": [
      "D:\\PosTec\\Fase 3\\TechCallenge\n"
     ]
    }
   ],
   "source": [
    "print(os.getcwd())  # Mostra o diretório atual de execução"
   ]
  },
  {
   "cell_type": "code",
   "execution_count": 12,
   "id": "fbb7dee0-015c-49e3-9b9b-1faf1da43c00",
   "metadata": {},
   "outputs": [],
   "source": [
    "# Verifica se o código está em um notebook ou script\n",
    "try:\n",
    "    script_dir = os.path.dirname(__file__)  # Diretório do script.\n",
    "except NameError:\n",
    "    script_dir = os.getcwd()  # Diretório atual (para notebooks).\n",
    "\n",
    "# Caminho dos arquivos de entrada e saída\n",
    "file_name = \"trn.json.gz\"\n",
    "file_path = os.path.join(script_dir, file_name)  # Caminho completo para o arquivo compactado.\n",
    "output_file = os.path.join(script_dir, \"trn_filtered.json\")  # Caminho completo para o arquivo de saída."
   ]
  },
  {
   "cell_type": "code",
   "execution_count": 13,
   "id": "6eaa4cc2-fabb-4fff-ab75-67af7858cc01",
   "metadata": {},
   "outputs": [],
   "source": [
    "# Parâmetros de filtragem\n",
    "MAX_SAMPLES = 200_000  # Limite máximo de registros.\n",
    "MIN_CONTENT_LENGTH = 10  # Comprimento mínimo do conteúdo (em palavras).\n",
    "MAX_CONTENT_LENGTH = 200  # Comprimento máximo do conteúdo (em palavras)."
   ]
  },
  {
   "cell_type": "code",
   "execution_count": 14,
   "id": "2b5bdf07-0845-44a6-b3a2-ab3bb093c2c0",
   "metadata": {},
   "outputs": [],
   "source": [
    "# Lista para armazenar os dados filtrados\n",
    "filtered_data = []\n",
    "\n",
    "# Abre o arquivo .gz e processa linha a linha\n",
    "with gzip.open(file_path, 'rt', encoding='utf-8') as file:\n",
    "    for line in file:  # Itera sobre cada linha do arquivo compactado\n",
    "        record = json.loads(line)  # Converte a linha para um dicionário Python.\n",
    "        content = record.get(\"content\", \"\").strip()  # Obtém o campo 'content'.\n",
    "        title = record.get(\"title\", \"\").strip()  # Obtém o campo 'title'.\n",
    "\n",
    "        # Filtragem: verifica se o 'content' está dentro do intervalo permitido de palavras\n",
    "        if content and MIN_CONTENT_LENGTH <= len(content.split()) <= MAX_CONTENT_LENGTH:\n",
    "            filtered_data.append({\n",
    "                \"input\": f\"Qual é a descrição de {title}?\",  # Cria o campo 'input' com o título.\n",
    "                \"output\": content  # O 'content' será usado como 'output'.\n",
    "            })\n",
    "\n",
    "        # Interrompe se atingir o limite de amostras\n",
    "        if len(filtered_data) >= MAX_SAMPLES:\n",
    "            break"
   ]
  },
  {
   "cell_type": "code",
   "execution_count": 15,
   "id": "fa67430b-f7df-41d6-b8c1-207bd5db800a",
   "metadata": {},
   "outputs": [],
   "source": [
    "# Embaralha os dados para diversidade\n",
    "random.shuffle(filtered_data)"
   ]
  },
  {
   "cell_type": "code",
   "execution_count": 16,
   "id": "f873867b-92f1-4181-9fc4-e18079d19cd5",
   "metadata": {},
   "outputs": [],
   "source": [
    "# Salva os dados filtrados no arquivo JSON\n",
    "with open(output_file, \"w\", encoding=\"utf-8\") as out_file:\n",
    "    # Salva como uma lista JSON bem formatada\n",
    "    json.dump(filtered_data, out_file, indent=2, ensure_ascii=False) # Indentação para facilitar leitura"
   ]
  },
  {
   "cell_type": "code",
   "execution_count": 17,
   "id": "30d831d3-dc85-4301-bbf6-e646e3df261b",
   "metadata": {},
   "outputs": [
    {
     "name": "stdout",
     "output_type": "stream",
     "text": [
      "Dados filtrados salvos em trn_filtered.json. Total de registros: 200000\n"
     ]
    }
   ],
   "source": [
    "# Imprime uma mensagem indicando onde os dados foram salvos e quantos registros foram incluídos\n",
    "print(f\"Dados filtrados salvos em {output_file}. Total de registros: {len(filtered_data)}\")"
   ]
  },
  {
   "cell_type": "code",
   "execution_count": 19,
   "id": "4461d76f-a765-4531-a661-103b127bf7ce",
   "metadata": {},
   "outputs": [
    {
     "name": "stdout",
     "output_type": "stream",
     "text": [
      "O arquivo JSON contém 200000 registros e é válido!\n"
     ]
    }
   ],
   "source": [
    "with open(\"trn_filtered.json\", \"r\", encoding=\"utf-8\") as f:\n",
    "    data = json.load(f)  # Tenta carregar o JSON, faz um teste para verificar se é possível abrir o arquivo.\n",
    "    print(f\"O arquivo JSON contém {len(data)} registros e é válido!\")\n"
   ]
  },
  {
   "cell_type": "code",
   "execution_count": null,
   "id": "444c97fb-8484-4a09-9b02-4cef6a371e5d",
   "metadata": {},
   "outputs": [],
   "source": []
  }
 ],
 "metadata": {
  "kernelspec": {
   "display_name": "Python (Python_Python312)",
   "language": "python",
   "name": "python_python312"
  },
  "language_info": {
   "codemirror_mode": {
    "name": "ipython",
    "version": 3
   },
   "file_extension": ".py",
   "mimetype": "text/x-python",
   "name": "python",
   "nbconvert_exporter": "python",
   "pygments_lexer": "ipython3",
   "version": "3.12.8"
  }
 },
 "nbformat": 4,
 "nbformat_minor": 5
}
